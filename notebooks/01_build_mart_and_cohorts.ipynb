{
 "cells": [
  {
   "cell_type": "code",
   "execution_count": null,
   "id": "bb551b0c",
   "metadata": {},
   "outputs": [],
   "source": [
    "import duckdb, pandas as pd, numpy as np\n",
    "from pathlib import Path\n",
    "Path(\"../reports\").mkdir(exist_ok=True); Path(\"../assets\").mkdir(exist_ok=True)\n",
    "\n",
    "con = duckdb.connect(database=':memory:')\n",
    "orders = pd.read_csv(\"../data/orders_sample.csv\", parse_dates=[\"order_date\"])\n",
    "spend  = pd.read_csv(\"../data/marketing_spend.csv\")\n",
    "orders[\"order_month\"] = orders[\"order_date\"].dt.to_period(\"M\").astype(str)\n",
    "\n",
    "con.register(\"orders\", orders)\n",
    "con.register(\"spend\", spend)\n"
   ]
  },
  {
   "cell_type": "code",
   "execution_count": null,
   "id": "6a4582dc",
   "metadata": {},
   "outputs": [],
   "source": [
    "con.execute(\"\"\"\n",
    "CREATE OR REPLACE TABLE fact_orders AS\n",
    "SELECT\n",
    "  order_id,\n",
    "  order_date,\n",
    "  order_month,\n",
    "  customer_id,\n",
    "  channel,\n",
    "  revenue\n",
    "FROM orders;\n",
    "\"\"\")\n",
    "\n",
    "con.execute(\"\"\"\n",
    "CREATE OR REPLACE TABLE first_orders AS\n",
    "SELECT\n",
    "  customer_id,\n",
    "  MIN(order_date) AS first_order_date,\n",
    "  CAST(strftime(MIN(order_date), '%Y-%m-01') AS DATE) AS cohort_month_date,\n",
    "  strftime(MIN(order_date), '%Y-%m') AS cohort_month,\n",
    "  ANY_VALUE(channel) AS acquisition_channel\n",
    "FROM fact_orders\n",
    "GROUP BY customer_id;\n",
    "\"\"\")\n"
   ]
  },
  {
   "cell_type": "code",
   "execution_count": null,
   "id": "b3345038",
   "metadata": {},
   "outputs": [],
   "source": [
    "con.execute(\"\"\"\n",
    "CREATE OR REPLACE TABLE fct AS\n",
    "SELECT\n",
    "  f.*,\n",
    "  fo.cohort_month,\n",
    "  fo.acquisition_channel,\n",
    "  DATE_DIFF('month', CAST(strftime(fo.first_order_date, '%Y-%m-01') AS DATE),\n",
    "            CAST(strftime(f.order_date, '%Y-%m-01') AS DATE)) AS months_since_cohort\n",
    "FROM fact_orders f\n",
    "JOIN first_orders fo USING (customer_id);\n",
    "\"\"\")\n",
    "\n",
    "con.execute(\"SELECT * FROM fct ORDER BY order_date LIMIT 10;\").df()\n"
   ]
  },
  {
   "cell_type": "code",
   "execution_count": null,
   "id": "40ae8969",
   "metadata": {},
   "outputs": [],
   "source": [
    "cohort_rev = con.execute(\"\"\"\n",
    "SELECT\n",
    "  cohort_month,\n",
    "  months_since_cohort,\n",
    "  SUM(revenue) AS revenue\n",
    "FROM fct\n",
    "GROUP BY 1,2\n",
    "ORDER BY 1,2;\n",
    "\"\"\").df()\n",
    "\n",
    "acq_counts = con.execute(\"\"\"\n",
    "SELECT cohort_month, COUNT(DISTINCT customer_id) AS new_customers\n",
    "FROM first_orders\n",
    "GROUP BY 1 ORDER BY 1;\n",
    "\"\"\").df()\n",
    "\n",
    "cohort_rev.head(), acq_counts.head()\n"
   ]
  },
  {
   "cell_type": "code",
   "execution_count": null,
   "id": "2c230db2",
   "metadata": {},
   "outputs": [],
   "source": [
    "# Assume acquisition channel derives initial cohort via acquisition_channel\n",
    "# Map spend per month across channels to the cohort month; simple allocation example:\n",
    "spend[\"month\"] = spend[\"month\"].astype(str)\n",
    "cac = con.execute(\"\"\"\n",
    "SELECT fo.cohort_month,\n",
    "       SUM(s.spend) FILTER (WHERE s.channel = fo.acquisition_channel) / COUNT(DISTINCT fo.customer_id) AS CAC\n",
    "FROM first_orders fo\n",
    "LEFT JOIN spend s ON s.month = fo.cohort_month\n",
    "GROUP BY fo.cohort_month\n",
    "ORDER BY fo.cohort_month;\n",
    "\"\"\").df()\n",
    "\n",
    "# LTV by cohort at each month_since_cohort\n",
    "ltv = cohort_rev.merge(acq_counts, on=\"cohort_month\", how=\"left\")\n",
    "ltv[\"ltv\"] = ltv[\"revenue\"] / ltv[\"new_customers\"].replace(0, np.nan)\n",
    "ltv_pivot = ltv.pivot(index=\"cohort_month\", columns=\"months_since_cohort\", values=\"ltv\").fillna(0).sort_index()\n",
    "ltv_cum = ltv_pivot.cumsum(axis=1)\n",
    "ltv_cum.head(), cac.head()\n"
   ]
  },
  {
   "cell_type": "code",
   "execution_count": null,
   "id": "e3cba50a",
   "metadata": {},
   "outputs": [],
   "source": [
    "import matplotlib.pyplot as plt, numpy as np\n",
    "from xlsxwriter import Workbook\n",
    "\n",
    "# Create summary table: latest cumulative LTV per cohort vs CAC\n",
    "latest_month = ltv_cum.columns.max() if len(ltv_cum.columns) else 0\n",
    "summary = ltv_cum[[latest_month]].rename(columns={latest_month: \"LTV_latest\"}).reset_index()\n",
    "summary = summary.merge(cac, on=\"cohort_month\", how=\"left\")\n",
    "summary[\"LTV_to_CAC\"] = summary[\"LTV_latest\"] / summary[\"CAC\"]\n",
    "\n",
    "# Excel export\n",
    "out_xlsx = Path(\"../reports/cac_ltv_cohorts.xlsx\")\n",
    "with pd.ExcelWriter(out_xlsx, engine=\"xlsxwriter\") as writer:\n",
    "    ltv_cum.to_excel(writer, sheet_name=\"LTV_cumulative\")\n",
    "    summary.to_excel(writer, index=False, sheet_name=\"Summary\")\n",
    "    # autosize\n",
    "    for name, df in [(\"LTV_cumulative\", ltv_cum.reset_index()), (\"Summary\", summary)]:\n",
    "        ws = writer.sheets[name]\n",
    "        for j, col in enumerate(df.columns):\n",
    "            width = max(12, min(40, len(str(col))+4, int(df[col].astype(str).str.len().quantile(0.9))+2))\n",
    "            ws.set_column(j, j, width)\n",
    "\n",
    "# PNG bar chart for README\n",
    "plt.figure(figsize=(7,4))\n",
    "plt.bar(summary[\"cohort_month\"], summary[\"LTV_latest\"], label=\"LTV\")\n",
    "plt.plot(summary[\"cohort_month\"], summary[\"CAC\"], marker=\"o\", label=\"CAC\")\n",
    "plt.title(\"Cohort LTV vs CAC\")\n",
    "plt.xticks(rotation=45, ha=\"right\")\n",
    "plt.ylabel(\"USD\")\n",
    "plt.legend()\n",
    "plt.tight_layout()\n",
    "out_png = Path(\"../assets/ltv_vs_cac.png\"); plt.savefig(out_png, dpi=160); out_png.as_posix()\n"
   ]
  },
  {
   "cell_type": "code",
   "execution_count": null,
   "id": "a335fc38",
   "metadata": {},
   "outputs": [],
   "source": [
    "print(\"../reports/cac_ltv_cohorts.xlsx\")\n",
    "print(\"../assets/ltv_vs_cac.png\")"
   ]
  }
 ],
 "metadata": {
  "kernelspec": {
   "display_name": ".venv",
   "language": "python",
   "name": "python3"
  },
  "language_info": {
   "name": "python",
   "version": "3.9.6"
  }
 },
 "nbformat": 4,
 "nbformat_minor": 5
}
